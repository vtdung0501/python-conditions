{
 "cells": [
  {
   "cell_type": "code",
   "execution_count": 11,
   "metadata": {},
   "outputs": [
    {
     "name": "stdout",
     "output_type": "stream",
     "text": [
      "Phương trình có nghiệm kép x1 = x2 = -1.0\n"
     ]
    }
   ],
   "source": [
    "import math\n",
    "a = int(input(\"Nhập a = \"))\n",
    "b = int(input(\"Nhập b = \"))\n",
    "c = int(input(\"Nhập c = \"))\n",
    "delta = b**2 - 4*a*c\n",
    "if a ==0:\n",
    "    print(\"Đây là phương trình bậc nhất\")\n",
    "elif delta < 0:\n",
    "    print(\"Phương trình vô nghiệm.\")\n",
    "elif delta == 0:\n",
    "    x = -b/(2*a)\n",
    "    print(f\"Phương trình có nghiệm kép x1 = x2 = {x}\")\n",
    "else:\n",
    "    x1 = (-b + math.sqrt(delta))/(2*a)\n",
    "    x2 = (-b - math.sqrt(delta))/(2*a)\n",
    "    print(f\"Phương trình có 2 nghiệm phân biệt là x1 = {x1}, x2 = {x2}\")\n"
   ]
  }
 ],
 "metadata": {
  "kernelspec": {
   "display_name": "Python 3",
   "language": "python",
   "name": "python3"
  },
  "language_info": {
   "codemirror_mode": {
    "name": "ipython",
    "version": 3
   },
   "file_extension": ".py",
   "mimetype": "text/x-python",
   "name": "python",
   "nbconvert_exporter": "python",
   "pygments_lexer": "ipython3",
   "version": "3.10.4"
  },
  "orig_nbformat": 4,
  "vscode": {
   "interpreter": {
    "hash": "4e4c4528611270940a17f960982dd19717385b2491587e4df5cdee527a713aa6"
   }
  }
 },
 "nbformat": 4,
 "nbformat_minor": 2
}
